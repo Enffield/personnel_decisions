{
 "cells": [
  {
   "cell_type": "code",
   "execution_count": 65,
   "id": "3c836b8e-6a4d-4a9b-9014-821327b23145",
   "metadata": {},
   "outputs": [],
   "source": [
    "import pandas as pd \n",
    "import numpy as np"
   ]
  },
  {
   "cell_type": "code",
   "execution_count": 66,
   "id": "6231c630-8279-4366-bb39-74bac5801cff",
   "metadata": {},
   "outputs": [],
   "source": [
    "table_1 = pd.read_excel('Тестовое задание.xlsx', sheet_name='Данные клиента') # Считываю 1-й лист"
   ]
  },
  {
   "cell_type": "code",
   "execution_count": 67,
   "id": "c982f596-d6ec-46ca-91a2-d3400f0d6498",
   "metadata": {},
   "outputs": [],
   "source": [
    "table_2 = pd.read_excel('Тестовое задание.xlsx', sheet_name='Наша база') # Считываю 2-й лист"
   ]
  },
  {
   "cell_type": "markdown",
   "id": "d04580aa-b3e3-4f60-a739-b7c999058e6e",
   "metadata": {},
   "source": [
    "# На листе \"Наша база\" хранится база наших сотрудников. Очистите данные в листе \"Данные клиента\" и подтяните табельный номер из \"Наша база\" в \"Данные клиента\"."
   ]
  },
  {
   "cell_type": "code",
   "execution_count": 68,
   "id": "fac3cc72-ec71-4da2-b35c-f132a249a274",
   "metadata": {},
   "outputs": [],
   "source": [
    "table_1['ФИО'] = table_1['ФИО'].str.strip() # Убираю лишние пробелы"
   ]
  },
  {
   "cell_type": "code",
   "execution_count": 69,
   "id": "8ed4e14a-0cd7-41a8-9ccc-922a043fe07d",
   "metadata": {},
   "outputs": [],
   "source": [
    "table_1['ФИО'] = table_1['ФИО'].replace(to_replace =('ООО \"Альфа Групп\" ', 'Угли ', ' угли',  ' Огли'), value = '', regex = True) # Убрал Альфа банк"
   ]
  },
  {
   "cell_type": "code",
   "execution_count": 70,
   "id": "bc4d2b8c-a8bb-4f03-91a9-e76d438c7337",
   "metadata": {},
   "outputs": [],
   "source": [
    "pivot_table_1 = pd.pivot_table(table_1, index=table_1['ФИО'], aggfunc='sum') # ссумирую повторяющиеся значения"
   ]
  },
  {
   "cell_type": "code",
   "execution_count": 71,
   "id": "6ab330e0-d79a-4a6b-8512-7c2f958d208c",
   "metadata": {},
   "outputs": [],
   "source": [
    "pivot_table_1 = pivot_table_1.reset_index() # Убираю индекс"
   ]
  },
  {
   "cell_type": "code",
   "execution_count": 72,
   "id": "d1434036-8438-4478-b436-b709f13aa69e",
   "metadata": {},
   "outputs": [],
   "source": [
    "name = pivot_table_1['ФИО'].str.split(' ', expand=True) # хочу получить только имя и фамилию"
   ]
  },
  {
   "cell_type": "code",
   "execution_count": 73,
   "id": "9665f7ba-8705-4a89-ad4d-6d0f3d718113",
   "metadata": {},
   "outputs": [],
   "source": [
    "pivot_table_1['Фамилия Имя'] = name[0] + ' ' + name[1] # добавляю имя и фвмилию"
   ]
  },
  {
   "cell_type": "code",
   "execution_count": null,
   "id": "2dcfb7f5-dd1c-4d96-bd3a-2ad5996902f0",
   "metadata": {},
   "outputs": [],
   "source": []
  },
  {
   "cell_type": "code",
   "execution_count": 74,
   "id": "d455630f-c0c0-466e-8cbf-52ba44074dfa",
   "metadata": {},
   "outputs": [],
   "source": [
    "new_pivot = pd.pivot_table(pivot_table_1, index=pivot_table_1['Фамилия Имя'], values='Итого', aggfunc='sum') # Создаю сводную таблицу на основе 'Фамилия Имя'"
   ]
  },
  {
   "cell_type": "code",
   "execution_count": 75,
   "id": "207bdfb3-4255-4d3a-aa22-346c1f34c57b",
   "metadata": {},
   "outputs": [],
   "source": [
    "new_pivot = new_pivot.reset_index() # Убираю индекс"
   ]
  },
  {
   "cell_type": "code",
   "execution_count": null,
   "id": "c6210eb4-ae0e-43f0-a14f-078b83a61c64",
   "metadata": {},
   "outputs": [],
   "source": []
  },
  {
   "cell_type": "code",
   "execution_count": 76,
   "id": "676d4c74-bbfe-4a0c-bcfe-5db2bf9dd071",
   "metadata": {},
   "outputs": [],
   "source": [
    "basa_last_first_name = table_2['ФИО'].str.split(' ', expand=True)[[0, 1]] # Теперь нужно достать фамилию и имя из нашей базы"
   ]
  },
  {
   "cell_type": "code",
   "execution_count": 77,
   "id": "2308b17b-b875-4942-9c53-50580b6efe72",
   "metadata": {},
   "outputs": [],
   "source": [
    "basa_last_first_name = basa_last_first_name[0] + ' ' + basa_last_first_name[1] # Объеденяю фамилию и имя "
   ]
  },
  {
   "cell_type": "code",
   "execution_count": 78,
   "id": "a9b958bc-15b4-482b-9584-c25b1fcfbbab",
   "metadata": {},
   "outputs": [],
   "source": [
    "basa_last_first_name = pd.DataFrame(basa_last_first_name).rename(columns={0 : 'Фамилия Имя'}) # Переименовываю"
   ]
  },
  {
   "cell_type": "code",
   "execution_count": 79,
   "id": "bcd45fd0-b0aa-41f2-85d1-36cda9d415ce",
   "metadata": {},
   "outputs": [],
   "source": [
    "basa_last_first_name = basa_last_first_name.reset_index().rename(columns={'index' : 'Табельный номер'}) # Переименовываю"
   ]
  },
  {
   "cell_type": "code",
   "execution_count": 80,
   "id": "d882e818-18e4-482f-90f7-fa51368f925e",
   "metadata": {},
   "outputs": [],
   "source": [
    "basa_last_first_name['Табельный номер'] = basa_last_first_name['Табельный номер'] + 1 # Актуализирую 'Табельный номер'"
   ]
  },
  {
   "cell_type": "code",
   "execution_count": null,
   "id": "fe99bfff-04fd-4259-9ed5-3470e8a3ae66",
   "metadata": {},
   "outputs": [],
   "source": []
  },
  {
   "cell_type": "code",
   "execution_count": 81,
   "id": "e4077bc6-1546-4d26-a508-e854b784a7a4",
   "metadata": {},
   "outputs": [],
   "source": [
    "merge_1 = new_pivot.merge(basa_last_first_name, left_on=new_pivot['Фамилия Имя'], right_on=basa_last_first_name['Фамилия Имя'], how='left') # объеденяю таблицы по совпадениям"
   ]
  },
  {
   "cell_type": "code",
   "execution_count": 82,
   "id": "38cc413f-0b5b-4cd3-8c53-cb69e0786c71",
   "metadata": {},
   "outputs": [],
   "source": [
    "# Здесь я поступил следующим образом, т.к. есть несовпадения в таблице, 'Табельный номер' в некоторых местах пришлось проставить вручную, но все ровно будут пустые ячейки"
   ]
  },
  {
   "cell_type": "code",
   "execution_count": 83,
   "id": "6c1e0079-c878-40a8-a596-0b83bd52a39e",
   "metadata": {},
   "outputs": [],
   "source": [
    "merge_1.loc[4, 'Табельный номер'] = 4"
   ]
  },
  {
   "cell_type": "code",
   "execution_count": 84,
   "id": "f2d9c83d-0bfb-45e6-b165-4fa8cb5713cd",
   "metadata": {},
   "outputs": [],
   "source": [
    "merge_1.loc[0, 'Табельный номер'] = 6"
   ]
  },
  {
   "cell_type": "code",
   "execution_count": 85,
   "id": "374835ea-3bb6-466f-a3cc-4e7640ea102d",
   "metadata": {},
   "outputs": [],
   "source": [
    "merge_1.loc[12, 'Табельный номер'] = 13"
   ]
  },
  {
   "cell_type": "code",
   "execution_count": 86,
   "id": "b5b1ddc9-e073-44e8-884e-52960fb6863d",
   "metadata": {},
   "outputs": [],
   "source": [
    "merge_1.loc[14, 'Табельный номер'] = 14"
   ]
  },
  {
   "cell_type": "code",
   "execution_count": 87,
   "id": "d40fc3cb-74ef-40c6-86a7-1d051e4e21f6",
   "metadata": {},
   "outputs": [],
   "source": [
    "merge_1.loc[19, 'Табельный номер'] = 86"
   ]
  },
  {
   "cell_type": "code",
   "execution_count": 88,
   "id": "d535c55d-243d-4b7e-9c32-7db8f1755c6c",
   "metadata": {},
   "outputs": [],
   "source": [
    "merge_1.loc[26, 'Табельный номер'] = 12"
   ]
  },
  {
   "cell_type": "code",
   "execution_count": 89,
   "id": "1704142e-d29b-4951-a4a2-cfcbcda3a930",
   "metadata": {},
   "outputs": [],
   "source": [
    "merge_1.loc[27, 'Табельный номер'] = 5"
   ]
  },
  {
   "cell_type": "code",
   "execution_count": 90,
   "id": "8bfcbd55-46b5-48e4-b608-fad099356a6d",
   "metadata": {
    "collapsed": true,
    "jupyter": {
     "outputs_hidden": true
    },
    "scrolled": true
   },
   "outputs": [
    {
     "name": "stderr",
     "output_type": "stream",
     "text": [
      "C:\\Users\\Dexp\\AppData\\Local\\Temp\\ipykernel_7792\\103420229.py:1: FutureWarning: Series.fillna with 'method' is deprecated and will raise in a future version. Use obj.ffill() or obj.bfill() instead.\n",
      "  merge_1['Табельный номер'] = merge_1['Табельный номер'].fillna(method='ffill').astype('int64') # дозаполняю пробелы и меняю тип\n"
     ]
    }
   ],
   "source": [
    "merge_1['Табельный номер'] = merge_1['Табельный номер'].fillna(method='ffill').astype('int64') # дозаполняю пустые ячейки и меняю тип"
   ]
  },
  {
   "cell_type": "code",
   "execution_count": 91,
   "id": "2965d99d-f109-4ddc-abd8-0ed6f9d22fb8",
   "metadata": {},
   "outputs": [],
   "source": [
    "result = pd.pivot_table(merge_1, index=merge_1['Табельный номер'], values='Итого', aggfunc='sum') # ссумирую по 'Табельный номер'"
   ]
  },
  {
   "cell_type": "code",
   "execution_count": 95,
   "id": "1cf91848-81d5-4715-ac43-5c376971d811",
   "metadata": {},
   "outputs": [
    {
     "data": {
      "text/html": [
       "<div>\n",
       "<style scoped>\n",
       "    .dataframe tbody tr th:only-of-type {\n",
       "        vertical-align: middle;\n",
       "    }\n",
       "\n",
       "    .dataframe tbody tr th {\n",
       "        vertical-align: top;\n",
       "    }\n",
       "\n",
       "    .dataframe thead th {\n",
       "        text-align: right;\n",
       "    }\n",
       "</style>\n",
       "<table border=\"1\" class=\"dataframe\">\n",
       "  <thead>\n",
       "    <tr style=\"text-align: right;\">\n",
       "      <th></th>\n",
       "      <th>Табельный номер</th>\n",
       "      <th>Итого</th>\n",
       "    </tr>\n",
       "  </thead>\n",
       "  <tbody>\n",
       "    <tr>\n",
       "      <th>0</th>\n",
       "      <td>1</td>\n",
       "      <td>3993.750000</td>\n",
       "    </tr>\n",
       "    <tr>\n",
       "      <th>1</th>\n",
       "      <td>2</td>\n",
       "      <td>860.000000</td>\n",
       "    </tr>\n",
       "    <tr>\n",
       "      <th>2</th>\n",
       "      <td>3</td>\n",
       "      <td>16144.959961</td>\n",
       "    </tr>\n",
       "    <tr>\n",
       "      <th>3</th>\n",
       "      <td>4</td>\n",
       "      <td>14408.270142</td>\n",
       "    </tr>\n",
       "    <tr>\n",
       "      <th>4</th>\n",
       "      <td>5</td>\n",
       "      <td>11135.519897</td>\n",
       "    </tr>\n",
       "    <tr>\n",
       "      <th>5</th>\n",
       "      <td>6</td>\n",
       "      <td>700.000000</td>\n",
       "    </tr>\n",
       "    <tr>\n",
       "      <th>6</th>\n",
       "      <td>7</td>\n",
       "      <td>59444.039551</td>\n",
       "    </tr>\n",
       "    <tr>\n",
       "      <th>7</th>\n",
       "      <td>8</td>\n",
       "      <td>53876.060059</td>\n",
       "    </tr>\n",
       "    <tr>\n",
       "      <th>8</th>\n",
       "      <td>9</td>\n",
       "      <td>44861.559082</td>\n",
       "    </tr>\n",
       "    <tr>\n",
       "      <th>9</th>\n",
       "      <td>10</td>\n",
       "      <td>29059.529785</td>\n",
       "    </tr>\n",
       "    <tr>\n",
       "      <th>10</th>\n",
       "      <td>11</td>\n",
       "      <td>10480.149841</td>\n",
       "    </tr>\n",
       "    <tr>\n",
       "      <th>11</th>\n",
       "      <td>12</td>\n",
       "      <td>35874.040161</td>\n",
       "    </tr>\n",
       "    <tr>\n",
       "      <th>12</th>\n",
       "      <td>13</td>\n",
       "      <td>30800.609863</td>\n",
       "    </tr>\n",
       "    <tr>\n",
       "      <th>13</th>\n",
       "      <td>14</td>\n",
       "      <td>4773.859863</td>\n",
       "    </tr>\n",
       "    <tr>\n",
       "      <th>14</th>\n",
       "      <td>15</td>\n",
       "      <td>9400.000000</td>\n",
       "    </tr>\n",
       "    <tr>\n",
       "      <th>15</th>\n",
       "      <td>16</td>\n",
       "      <td>0.000000</td>\n",
       "    </tr>\n",
       "    <tr>\n",
       "      <th>16</th>\n",
       "      <td>17</td>\n",
       "      <td>4020.689941</td>\n",
       "    </tr>\n",
       "    <tr>\n",
       "      <th>17</th>\n",
       "      <td>86</td>\n",
       "      <td>32544.250000</td>\n",
       "    </tr>\n",
       "    <tr>\n",
       "      <th>18</th>\n",
       "      <td>108</td>\n",
       "      <td>8570.609985</td>\n",
       "    </tr>\n",
       "    <tr>\n",
       "      <th>19</th>\n",
       "      <td>134</td>\n",
       "      <td>37392.310547</td>\n",
       "    </tr>\n",
       "  </tbody>\n",
       "</table>\n",
       "</div>"
      ],
      "text/plain": [
       "    Табельный номер         Итого\n",
       "0                 1   3993.750000\n",
       "1                 2    860.000000\n",
       "2                 3  16144.959961\n",
       "3                 4  14408.270142\n",
       "4                 5  11135.519897\n",
       "5                 6    700.000000\n",
       "6                 7  59444.039551\n",
       "7                 8  53876.060059\n",
       "8                 9  44861.559082\n",
       "9                10  29059.529785\n",
       "10               11  10480.149841\n",
       "11               12  35874.040161\n",
       "12               13  30800.609863\n",
       "13               14   4773.859863\n",
       "14               15   9400.000000\n",
       "15               16      0.000000\n",
       "16               17   4020.689941\n",
       "17               86  32544.250000\n",
       "18              108   8570.609985\n",
       "19              134  37392.310547"
      ]
     },
     "execution_count": 95,
     "metadata": {},
     "output_type": "execute_result"
    }
   ],
   "source": [
    "result.reset_index() # вывод результата"
   ]
  },
  {
   "cell_type": "code",
   "execution_count": 97,
   "id": "0582b44f-a5a3-4a0a-b08d-6b9acc465157",
   "metadata": {},
   "outputs": [],
   "source": [
    "print_result = result.to_excel('customer_data.xlsx', index=True)"
   ]
  }
 ],
 "metadata": {
  "kernelspec": {
   "display_name": "Python 3 (ipykernel)",
   "language": "python",
   "name": "python3"
  },
  "language_info": {
   "codemirror_mode": {
    "name": "ipython",
    "version": 3
   },
   "file_extension": ".py",
   "mimetype": "text/x-python",
   "name": "python",
   "nbconvert_exporter": "python",
   "pygments_lexer": "ipython3",
   "version": "3.12.2"
  }
 },
 "nbformat": 4,
 "nbformat_minor": 5
}
